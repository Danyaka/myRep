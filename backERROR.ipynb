{
 "cells": [
  {
   "cell_type": "code",
   "execution_count": 315,
   "metadata": {},
   "outputs": [],
   "source": [
    "def func(x, k, b):\n",
    "    y = k * x + b\n",
    "    return y"
   ]
  },
  {
   "cell_type": "code",
   "execution_count": 316,
   "metadata": {},
   "outputs": [],
   "source": [
    "def Packing(d): \n",
    "    dr=(d-np.min(d))*(1/(np.max(d)-np.min(d)))\n",
    "    return dr"
   ]
  },
  {
   "cell_type": "code",
   "execution_count": 317,
   "metadata": {},
   "outputs": [],
   "source": [
    "import numpy as np\n",
    "import matplotlib\n",
    "import matplotlib.pyplot as plt\n",
    "import matplotlib.lines as pll\n",
    "%matplotlib inline\n",
    "import random"
   ]
  },
  {
   "cell_type": "code",
   "execution_count": 360,
   "metadata": {},
   "outputs": [
    {
     "data": {
      "image/png": "[encoded data removed]",
      "text/plain": [
       "<Figure size 432x288 with 1 Axes>"
      ]
     },
     "metadata": {
      "needs_background": "light"
     },
     "output_type": "display_data"
    }
   ],
   "source": [
    "k = 10000\n",
    "b = 0\n",
    "\n",
    "A=np.zeros((30, 3),dtype=np.float32)\n",
    "B=np.zeros((30, 3),dtype=np.float32)\n",
    "expA1=np.zeros((30),dtype=np.float32)\n",
    "expB1=np.zeros((30),dtype=np.float32)\n",
    "\n",
    "for i in range(30):\n",
    "    A[i][2] = 0.9\n",
    "    A[i][0] = random.random()\n",
    "    expA1[i] = func(A[i][0], k, b)\n",
    "    A[i][1] = random.random()\n",
    "    \n",
    "    B[i][2] = 0.1\n",
    "    B[i][0] = random.random()\n",
    "    expB1[i] = func(B[i][0], k, b)\n",
    "    B[i][1] = random.random()\n",
    "    \n",
    "p_expA1 = Packing(expA1)\n",
    "p_expB1 = Packing(expB1)\n",
    "for i in range(30):\n",
    "    if A[i][1] < p_expA1[i]:\n",
    "        A[i][1] += 2 * (p_expA1[i] - A[i][1])\n",
    "    if B[i][1] > p_expB1[i]:\n",
    "        B[i][1] -= 2 * (B[i][1] - p_expB1[i])\n",
    "                             \n",
    "A[:,1] += random.uniform(0.3, 0.5)\n",
    "B[:,1] -= random.uniform(0.3, 0.5)\n",
    "            \n",
    "plt.scatter(A[:,0], A[:,1], color='r')\n",
    "plt.scatter(B[:,0], B[:,1], color='b')\n",
    "plt.xlabel('X')\n",
    "plt.ylabel('Y')\n",
    "plt.title('')\n",
    "plt.show()"
   ]
  },
  {
   "cell_type": "code",
   "execution_count": 361,
   "metadata": {},
   "outputs": [],
   "source": [
    "#Запись в файл\n",
    "f = open('out.txt', 'w')\n",
    "for i in range(30):\n",
    "    f.write(str(A[i][0]) + '    ' + str(A[i][1]) + '    ' + str(A[i][2]) + '\\n')\n",
    "    \n",
    "for i in range(30):\n",
    "    f.write(str(B[i][0]) + '    ' + str(B[i][1]) + '    ' + str(B[i][2]) + '\\n')\n",
    "f.write('1 признак    2 признак    класс\\n')\n",
    "f.close()"
   ]
  },
  {
   "cell_type": "code",
   "execution_count": 354,
   "metadata": {},
   "outputs": [],
   "source": [
    "#Считывание с файла\n",
    "A1=np.zeros((30, 3),dtype=np.float32)\n",
    "B1=np.zeros((30, 3),dtype=np.float32)\n",
    "f = open('out.txt', 'r')\n",
    "for i in range(30):\n",
    "    k = f.readline().split()\n",
    "    A1[i][0] = float(k[0])\n",
    "    A1[i][1] = float(k[1])\n",
    "    A1[i][2] = float(k[2])\n",
    "\n",
    "for i in range(30):\n",
    "    k = f.readline().split()\n",
    "    B1[i][0] = float(k[0])\n",
    "    B1[i][1] = float(k[1])\n",
    "    B1[i][2] = float(k[2])\n",
    "f.close()"
   ]
  },
  {
   "cell_type": "code",
   "execution_count": 399,
   "metadata": {},
   "outputs": [],
   "source": [
    "#записывываю наши сгенерированные данные в удобном формате\n",
    "X=np.zeros((60, 2),dtype=np.float32)\n",
    "Y=np.zeros((60, 1),dtype=np.float32)\n",
    "for i in range(30):\n",
    "    X[i][0] = A[i][0]\n",
    "    X[i][1] = A[i][1]\n",
    "    Y[i] = A[:, 2][i]\n",
    "for i in range(30):\n",
    "    X[i + 30][0] = B[i][0]\n",
    "    X[i + 30][1] = B[i][1]\n",
    "    Y[i + 30] = B[:, 2][i]"
   ]
  },
  {
   "cell_type": "code",
   "execution_count": 401,
   "metadata": {
    "collapsed": true
   },
   "outputs": [
    {
     "data": {
      "text/plain": [
       "array([[0.9],\n",
       "       [0.9],\n",
       "       [0.9],\n",
       "       [0.9],\n",
       "       [0.9],\n",
       "       [0.9],\n",
       "       [0.9],\n",
       "       [0.9],\n",
       "       [0.9],\n",
       "       [0.9],\n",
       "       [0.9],\n",
       "       [0.9],\n",
       "       [0.9],\n",
       "       [0.9],\n",
       "       [0.9],\n",
       "       [0.9],\n",
       "       [0.9],\n",
       "       [0.9],\n",
       "       [0.9],\n",
       "       [0.9],\n",
       "       [0.9],\n",
       "       [0.9],\n",
       "       [0.9],\n",
       "       [0.9],\n",
       "       [0.9],\n",
       "       [0.9],\n",
       "       [0.9],\n",
       "       [0.9],\n",
       "       [0.9],\n",
       "       [0.9],\n",
       "       [0.1],\n",
       "       [0.1],\n",
       "       [0.1],\n",
       "       [0.1],\n",
       "       [0.1],\n",
       "       [0.1],\n",
       "       [0.1],\n",
       "       [0.1],\n",
       "       [0.1],\n",
       "       [0.1],\n",
       "       [0.1],\n",
       "       [0.1],\n",
       "       [0.1],\n",
       "       [0.1],\n",
       "       [0.1],\n",
       "       [0.1],\n",
       "       [0.1],\n",
       "       [0.1],\n",
       "       [0.1],\n",
       "       [0.1],\n",
       "       [0.1],\n",
       "       [0.1],\n",
       "       [0.1],\n",
       "       [0.1],\n",
       "       [0.1],\n",
       "       [0.1],\n",
       "       [0.1],\n",
       "       [0.1],\n",
       "       [0.1],\n",
       "       [0.1]], dtype=float32)"
      ]
     },
     "execution_count": 401,
     "metadata": {},
     "output_type": "execute_result"
    }
   ],
   "source": [
    "Y"
   ]
  },
  {
   "cell_type": "code",
   "execution_count": 419,
   "metadata": {},
   "outputs": [
    {
     "name": "stdout",
     "output_type": "stream",
     "text": [
      "E:0.36047869169094954\n",
      "E:0.002593771062894411\n",
      "E:0.0018750350136335378\n",
      "E:0.0015317341314553977\n",
      "E:0.001323376860296181\n",
      "E:0.0011806100367684539\n",
      "E:0.001075675397154079\n",
      "E:0.000993918327795877\n",
      "E:0.0009279437577975134\n",
      "E:0.0008732784554245483\n",
      "E:0.0008270392897428267\n",
      "E:0.0007872744916417894\n",
      "E:0.0007526100442237733\n",
      "E:0.0007220472475050324\n",
      "E:0.000694840634253184\n",
      "E:0.0006704211062380341\n",
      "E:0.000648345757474326\n",
      "E:0.0006282640914259304\n",
      "E:0.0006100054506102973\n"
     ]
    }
   ],
   "source": [
    "#\n",
    "#\n",
    "#Тут само обучение\n",
    "#можно вывести l2 после этого блока там записаны предсказания нейросети на нашей тренирвовочной выборке\n",
    "#а вообще в массиве Y записанны классы каждого объекта(для сравнения)\n",
    "import numpy as np\n",
    "\n",
    "def nonlin(x,deriv=False):\n",
    "\tif(deriv==True):\n",
    "           return x*(1-x)\n",
    "\n",
    "\treturn 1/(1+np.exp(-x))\n",
    "    \n",
    "\n",
    "np.random.seed(1)\n",
    "\n",
    "# случайно инициализируем веса, в среднем - 0\n",
    "syn0 = 2*np.random.random((2,2)) - 1\n",
    "syn1 = 2*np.random.random((2,1)) - 1\n",
    "\n",
    "for j in range(190000):\n",
    "\n",
    "\t# проходим вперёд по слоям 0, 1 и 2\n",
    "    l0 = X\n",
    "    l1 = nonlin(np.dot(l0,syn0))\n",
    "    l2 = nonlin(np.dot(l1,syn1))\n",
    "\n",
    "    # как сильно мы ошиблись относительно нужной величины?\n",
    "    l2_error = Y - l2\n",
    "    \n",
    "    if (j% 10000) == 0:\n",
    "        print (\"E:\" + str(np.mean(np.abs(l2_error))))\n",
    "        \n",
    "    # в какую сторону нужно двигаться?\n",
    "    # если мы были уверены в предсказании, то сильно менять его не надо\n",
    "    l2_delta = l2_error*nonlin(l2,deriv=True)\n",
    "\n",
    "    # как сильно значения l1 влияют на ошибки в l2?\n",
    "    l1_error = l2_delta.dot(syn1.T)\n",
    "    \n",
    "    # в каком направлении нужно двигаться, чтобы прийти к l1?\n",
    "    # если мы были уверены в предсказании, то сильно менять его не надо\n",
    "    l1_delta = l1_error * nonlin(l1,deriv=True)\n",
    "\n",
    "    syn1 += l1.T.dot(l2_delta)\n",
    "    syn0 += l0.T.dot(l1_delta)"
   ]
  },
  {
   "cell_type": "markdown",
   "metadata": {},
   "source": [
    "### l2"
   ]
  },
  {
   "cell_type": "code",
   "execution_count": 420,
   "metadata": {},
   "outputs": [],
   "source": [
    "#\n",
    "l0 = X\n",
    "l1 = nonlin(np.dot(l0,syn0))\n",
    "l2 = nonlin(np.dot(l1,syn1))"
   ]
  },
  {
   "cell_type": "code",
   "execution_count": 418,
   "metadata": {
    "collapsed": true
   },
   "outputs": [
    {
     "data": {
      "text/plain": [
       "array([[0.90053473],\n",
       "       [0.8994551 ],\n",
       "       [0.89933125],\n",
       "       [0.90048421],\n",
       "       [0.89772582],\n",
       "       [0.89891499],\n",
       "       [0.89905379],\n",
       "       [0.90047905],\n",
       "       [0.89989388],\n",
       "       [0.90064892],\n",
       "       [0.90074913],\n",
       "       [0.90079402],\n",
       "       [0.89965091],\n",
       "       [0.90013645],\n",
       "       [0.89937014],\n",
       "       [0.90058469],\n",
       "       [0.90041641],\n",
       "       [0.90044486],\n",
       "       [0.90000654],\n",
       "       [0.89833043],\n",
       "       [0.89985319],\n",
       "       [0.90105346],\n",
       "       [0.90003163],\n",
       "       [0.90096123],\n",
       "       [0.90012586],\n",
       "       [0.90057726],\n",
       "       [0.90083251],\n",
       "       [0.89992824],\n",
       "       [0.9000917 ],\n",
       "       [0.89961888],\n",
       "       [0.10022309],\n",
       "       [0.09928911],\n",
       "       [0.09980059],\n",
       "       [0.09936285],\n",
       "       [0.09997558],\n",
       "       [0.10058683],\n",
       "       [0.09930691],\n",
       "       [0.1013227 ],\n",
       "       [0.09961546],\n",
       "       [0.10005298],\n",
       "       [0.10052215],\n",
       "       [0.10031806],\n",
       "       [0.09938038],\n",
       "       [0.10038695],\n",
       "       [0.09959278],\n",
       "       [0.09927841],\n",
       "       [0.09926968],\n",
       "       [0.09915937],\n",
       "       [0.09945039],\n",
       "       [0.10060681],\n",
       "       [0.09930269],\n",
       "       [0.10070978],\n",
       "       [0.09925088],\n",
       "       [0.09989882],\n",
       "       [0.10100366],\n",
       "       [0.0999415 ],\n",
       "       [0.09925573],\n",
       "       [0.10190042],\n",
       "       [0.10122245],\n",
       "       [0.09995733]])"
      ]
     },
     "execution_count": 418,
     "metadata": {},
     "output_type": "execute_result"
    }
   ],
   "source": [
    "l2"
   ]
  },
  {
   "cell_type": "code",
   "execution_count": null,
   "metadata": {},
   "outputs": [],
   "source": []
  }
 ],
 "metadata": {
  "kernelspec": {
   "display_name": "Python 3",
   "language": "python",
   "name": "python3"
  },
  "language_info": {
   "codemirror_mode": {
    "name": "ipython",
    "version": 3
   },
   "file_extension": ".py",
   "mimetype": "text/x-python",
   "name": "python",
   "nbconvert_exporter": "python",
   "pygments_lexer": "ipython3",
   "version": "3.7.1"
  }
 },
 "nbformat": 4,
 "nbformat_minor": 2
}
